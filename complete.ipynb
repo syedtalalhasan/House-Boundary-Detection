{
 "cells": [
  {
   "cell_type": "code",
   "execution_count": null,
   "metadata": {},
   "outputs": [],
   "source": [
    "# Dataset location (edit as needed)\n",
    "root_dir = 'D:\\\\Spring 2022\\\\Deep Learning\\\\project\\\\SN7_buildings_train'"
   ]
  },
  {
   "cell_type": "code",
   "execution_count": 3,
   "metadata": {},
   "outputs": [],
   "source": [
    "import multiprocessing\n",
    "import pandas as pd\n",
    "import numpy as np\n",
    "import skimage\n",
    "from osgeo import gdal\n",
    "import sys\n",
    "import os\n",
    "\n",
    "import matplotlib as mpl\n",
    "import matplotlib.cm as cmx\n",
    "import matplotlib.pyplot as plt\n",
    "import matplotlib.colors as colors\n",
    "plt.rcParams.update({'font.size': 16})\n",
    "mpl.rcParams['figure.dpi'] = 300\n",
    "\n",
    "import solaris as sol\n",
    "from solaris.raster.image import create_multiband_geotiff\n",
    "from solaris.utils.core import _check_gdf_load\n",
    "\n",
    "# import from data_prep_funcs\n",
    "module_path = os.path.abspath(os.path.join('../src/'))\n",
    "if module_path not in sys.path:\n",
    "    sys.path.append(module_path)\n",
    "# from sn7_baseline_prep_funcs import map_wrapper, make_geojsons_and_masks"
   ]
  },
  {
   "cell_type": "code",
   "execution_count": 4,
   "metadata": {},
   "outputs": [
    {
     "data": {
      "text/html": [
       "<div>\n",
       "<style scoped>\n",
       "    .dataframe tbody tr th:only-of-type {\n",
       "        vertical-align: middle;\n",
       "    }\n",
       "\n",
       "    .dataframe tbody tr th {\n",
       "        vertical-align: top;\n",
       "    }\n",
       "\n",
       "    .dataframe thead th {\n",
       "        text-align: right;\n",
       "    }\n",
       "</style>\n",
       "<table border=\"1\" class=\"dataframe\">\n",
       "  <thead>\n",
       "    <tr style=\"text-align: right;\">\n",
       "      <th></th>\n",
       "      <th>image</th>\n",
       "      <th>label</th>\n",
       "    </tr>\n",
       "  </thead>\n",
       "  <tbody>\n",
       "    <tr>\n",
       "      <th>0</th>\n",
       "      <td>D:\\Spring 2022\\Deep Learning\\project\\SN7_build...</td>\n",
       "      <td>D:\\Spring 2022\\Deep Learning\\project\\SN7_build...</td>\n",
       "    </tr>\n",
       "    <tr>\n",
       "      <th>1</th>\n",
       "      <td>D:\\Spring 2022\\Deep Learning\\project\\SN7_build...</td>\n",
       "      <td>D:\\Spring 2022\\Deep Learning\\project\\SN7_build...</td>\n",
       "    </tr>\n",
       "    <tr>\n",
       "      <th>2</th>\n",
       "      <td>D:\\Spring 2022\\Deep Learning\\project\\SN7_build...</td>\n",
       "      <td>D:\\Spring 2022\\Deep Learning\\project\\SN7_build...</td>\n",
       "    </tr>\n",
       "    <tr>\n",
       "      <th>3</th>\n",
       "      <td>D:\\Spring 2022\\Deep Learning\\project\\SN7_build...</td>\n",
       "      <td>D:\\Spring 2022\\Deep Learning\\project\\SN7_build...</td>\n",
       "    </tr>\n",
       "    <tr>\n",
       "      <th>4</th>\n",
       "      <td>D:\\Spring 2022\\Deep Learning\\project\\SN7_build...</td>\n",
       "      <td>D:\\Spring 2022\\Deep Learning\\project\\SN7_build...</td>\n",
       "    </tr>\n",
       "  </tbody>\n",
       "</table>\n",
       "</div>"
      ],
      "text/plain": [
       "                                               image  \\\n",
       "0  D:\\Spring 2022\\Deep Learning\\project\\SN7_build...   \n",
       "1  D:\\Spring 2022\\Deep Learning\\project\\SN7_build...   \n",
       "2  D:\\Spring 2022\\Deep Learning\\project\\SN7_build...   \n",
       "3  D:\\Spring 2022\\Deep Learning\\project\\SN7_build...   \n",
       "4  D:\\Spring 2022\\Deep Learning\\project\\SN7_build...   \n",
       "\n",
       "                                               label  \n",
       "0  D:\\Spring 2022\\Deep Learning\\project\\SN7_build...  \n",
       "1  D:\\Spring 2022\\Deep Learning\\project\\SN7_build...  \n",
       "2  D:\\Spring 2022\\Deep Learning\\project\\SN7_build...  \n",
       "3  D:\\Spring 2022\\Deep Learning\\project\\SN7_build...  \n",
       "4  D:\\Spring 2022\\Deep Learning\\project\\SN7_build...  "
      ]
     },
     "metadata": {},
     "output_type": "display_data"
    },
    {
     "name": "stdout",
     "output_type": "stream",
     "text": [
      "train len df: 1260\n",
      "output csv: D:\\Spring 2022\\Deep Learning\\project\\SN7_buildings_train\\csvs/sn7_baseline_train_df.csv\n",
      "test_public len df: 19\n",
      "output csv: D:\\Spring 2022\\Deep Learning\\project\\SN7_buildings_train\\csvs/sn7_baseline_test_public_df.csv\n"
     ]
    }
   ],
   "source": [
    "# Make dataframe csvs for train/test\n",
    "\n",
    "out_dir = os.path.join(root_dir, 'csvs/')\n",
    "pops = ['train', 'test_public']\n",
    "os.makedirs(out_dir, exist_ok=True)\n",
    "\n",
    "for pop in pops: \n",
    "    d = os.path.join(root_dir, pop)\n",
    "    outpath = os.path.join(out_dir, 'sn7_baseline_' + pop + '_df.csv')\n",
    "    im_list, mask_list = [], []\n",
    "    subdirs = sorted([f for f in os.listdir(d) if os.path.isdir(os.path.join(d, f))])\n",
    "    for subdir in subdirs:\n",
    "        \n",
    "        if pop == 'train':\n",
    "            im_files = [os.path.join(d, subdir, 'images_masked', f)\n",
    "                    for f in sorted(os.listdir(os.path.join(d, subdir, 'images_masked')))\n",
    "                    if f.endswith('.tif') and os.path.exists(os.path.join(d, subdir, 'masks', f.split('.')[0] + '_Buildings.tif'))]\n",
    "            mask_files = [os.path.join(d, subdir, 'masks', f.split('.')[0] + '_Buildings.tif')\n",
    "                      for f in sorted(os.listdir(os.path.join(d, subdir, 'images_masked')))\n",
    "                      if f.endswith('.tif') and os.path.exists(os.path.join(d, subdir, 'masks', f.split('.')[0] + '_Buildings.tif'))]\n",
    "            im_list.extend(im_files)\n",
    "            mask_list.extend(mask_files)\n",
    "    \n",
    "        elif pop == 'test_public':\n",
    "            im_files = [os.path.join(d, subdir, 'images_masked', f)\n",
    "                    for f in sorted(os.listdir(os.path.join(d, subdir, 'images_masked')))\n",
    "                    if f.endswith('.png')]\n",
    "            im_list.extend(im_files)\n",
    "\n",
    "    # save to dataframes\n",
    "    # print(\"im_list:\", im_list)\n",
    "    # print(\"mask_list:\", mask_list)\n",
    "    if pop == 'train':\n",
    "        df = pd.DataFrame({'image': im_list, 'label': mask_list})\n",
    "        display(df.head())\n",
    "    elif pop == 'test_public':\n",
    "        df = pd.DataFrame({'image': im_list})\n",
    "    df.to_csv(outpath, index=False)\n",
    "    print(pop, \"len df:\", len(df))\n",
    "    print(\"output csv:\", outpath)"
   ]
  },
  {
   "cell_type": "code",
   "execution_count": 5,
   "metadata": {},
   "outputs": [],
   "source": [
    "import glob \n",
    "import cv2\n",
    "from matplotlib import pyplot as plt"
   ]
  },
  {
   "cell_type": "code",
   "execution_count": 6,
   "metadata": {},
   "outputs": [],
   "source": [
    "data=[]\n",
    "count=0\n",
    "\n",
    "for p in glob.glob('D:\\\\Spring 2022\\\\Deep Learning\\\\project\\\\SN7_buildings_train\\\\test_public\\\\dha phase 2\\\\images_masked\\*' +'.jpg'):\n",
    "    img = cv2.imread(p)\n",
    "    img= cv2.cvtColor(img, cv2.COLOR_BGR2RGB)\n",
    "    # plt.imshow(img)\n",
    "    # print(img.shape)\n",
    "    \n",
    "    resized = cv2.resize(img, (512,512), interpolation = cv2.INTER_AREA)\n",
    "    plt.imsave(\"D:\\\\Spring 2022\\\\Deep Learning\\\\project\\\\SN7_buildings_train\\\\test_public\\\\dha phase 2\\\\images_masked\\\\img_resized_\"+str(count)+'.jpg', resized)\n",
    "    count+=1\n",
    "    # img.resize(512,512,3)\n",
    "    \n",
    "    data.append(resized)\n",
    "# plt.imshow(data[3])"
   ]
  },
  {
   "cell_type": "code",
   "execution_count": 1,
   "metadata": {},
   "outputs": [
    {
     "name": "stderr",
     "output_type": "stream",
     "text": [
      "c:\\Users\\Syed Talal\\anaconda3\\envs\\solaris\\lib\\site-packages\\tensorflow\\python\\framework\\dtypes.py:526: FutureWarning: Passing (type, 1) or '1type' as a synonym of type is deprecated; in a future version of numpy, it will be understood as (type, (1,)) / '(1,)type'.\n",
      "  _np_qint8 = np.dtype([(\"qint8\", np.int8, 1)])\n",
      "c:\\Users\\Syed Talal\\anaconda3\\envs\\solaris\\lib\\site-packages\\tensorflow\\python\\framework\\dtypes.py:527: FutureWarning: Passing (type, 1) or '1type' as a synonym of type is deprecated; in a future version of numpy, it will be understood as (type, (1,)) / '(1,)type'.\n",
      "  _np_quint8 = np.dtype([(\"quint8\", np.uint8, 1)])\n",
      "c:\\Users\\Syed Talal\\anaconda3\\envs\\solaris\\lib\\site-packages\\tensorflow\\python\\framework\\dtypes.py:528: FutureWarning: Passing (type, 1) or '1type' as a synonym of type is deprecated; in a future version of numpy, it will be understood as (type, (1,)) / '(1,)type'.\n",
      "  _np_qint16 = np.dtype([(\"qint16\", np.int16, 1)])\n",
      "c:\\Users\\Syed Talal\\anaconda3\\envs\\solaris\\lib\\site-packages\\tensorflow\\python\\framework\\dtypes.py:529: FutureWarning: Passing (type, 1) or '1type' as a synonym of type is deprecated; in a future version of numpy, it will be understood as (type, (1,)) / '(1,)type'.\n",
      "  _np_quint16 = np.dtype([(\"quint16\", np.uint16, 1)])\n",
      "c:\\Users\\Syed Talal\\anaconda3\\envs\\solaris\\lib\\site-packages\\tensorflow\\python\\framework\\dtypes.py:530: FutureWarning: Passing (type, 1) or '1type' as a synonym of type is deprecated; in a future version of numpy, it will be understood as (type, (1,)) / '(1,)type'.\n",
      "  _np_qint32 = np.dtype([(\"qint32\", np.int32, 1)])\n",
      "c:\\Users\\Syed Talal\\anaconda3\\envs\\solaris\\lib\\site-packages\\tensorflow\\python\\framework\\dtypes.py:535: FutureWarning: Passing (type, 1) or '1type' as a synonym of type is deprecated; in a future version of numpy, it will be understood as (type, (1,)) / '(1,)type'.\n",
      "  np_resource = np.dtype([(\"resource\", np.ubyte, 1)])\n",
      "c:\\Users\\Syed Talal\\anaconda3\\envs\\solaris\\lib\\site-packages\\tqdm\\auto.py:22: TqdmWarning: IProgress not found. Please update jupyter and ipywidgets. See https://ipywidgets.readthedocs.io/en/stable/user_install.html\n",
      "  from .autonotebook import tqdm as notebook_tqdm\n",
      "\n",
      "Bad key \"text.kerning_factor\" on line 4 in\n",
      "c:\\Users\\Syed Talal\\anaconda3\\envs\\solaris\\lib\\site-packages\\matplotlib\\mpl-data\\stylelib\\_classic_test_patch.mplstyle.\n",
      "You probably need to get an updated matplotlibrc file from\n",
      "https://github.com/matplotlib/matplotlib/blob/v3.1.3/matplotlibrc.template\n",
      "or from the matplotlib source distribution\n"
     ]
    },
    {
     "name": "stdout",
     "output_type": "stream",
     "text": [
      "Config:\n",
      "{'model_name': 'xdxd_spacenet4', 'model_path': 'D:\\\\\\\\Spring 2022\\\\\\\\Deep Learning\\\\\\\\project\\\\\\\\trained_weights.pth', 'train': False, 'infer': True, 'pretrained': True, 'nn_framework': 'torch', 'batch_size': 6, 'data_specs': {'width': 512, 'height': 512, 'dtype': None, 'image_type': 'zscore', 'rescale': False, 'rescale_minima': 'auto', 'rescale_maxima': 'auto', 'channels': 4, 'label_type': 'mask', 'is_categorical': False, 'mask_channels': 1, 'val_holdout_frac': 0.1, 'data_workers': None}, 'training_data_csv': None, 'validation_data_csv': None, 'inference_data_csv': 'D:\\\\\\\\Spring 2022\\\\\\\\Deep Learning\\\\\\\\project\\\\\\\\SN7_buildings_train\\\\\\\\csvs\\\\\\\\sn7_baseline_test_public_df.csv', 'training_augmentation': {'augmentations': {'DropChannel': {'idx': 3, 'axis': 2}, 'HorizontalFlip': {'p': 0.5}, 'RandomRotate90': {'p': 0.5}, 'RandomCrop': {'height': 512, 'width': 512, 'p': 1.0}}, 'p': 1.0, 'shuffle': True}, 'validation_augmentation': {'augmentations': {'DropChannel': {'idx': 3, 'axis': 2}, 'CenterCrop': {'height': 512, 'width': 512, 'p': 1.0}}, 'p': 1.0}, 'inference_augmentation': {'augmentations': {'DropChannel': {'idx': 3, 'axis': 2, 'p': 1.0}}, 'p': 1.0}, 'training': {'epochs': 300, 'steps_per_epoch': None, 'optimizer': 'Adam', 'lr': 0.0001, 'opt_args': None, 'loss': {'bcewithlogits': None, 'jaccard': None}, 'loss_weights': {'bcewithlogits': 10, 'jaccard': 2.5}, 'metrics': {'training': None, 'validation': None}, 'checkpoint_frequency': 10, 'callbacks': {'early_stopping': {'patience': 24}, 'model_checkpoint': {'filepath': None, 'monitor': 'val_loss'}, 'lr_schedule': {'schedule_type': 'arbitrary', 'schedule_dict': {'milestones': [200], 'gamma': 0.1}}}, 'model_dest_path': None, 'verbose': True}, 'inference': {'window_step_size_x': None, 'window_step_size_y': None, 'output_dir': 'D:\\\\\\\\Spring 2022\\\\\\\\Deep Learning\\\\\\\\project\\\\\\\\Lahore housing boundary'}}\n"
     ]
    }
   ],
   "source": [
    "import solaris as sol\n",
    "import os\n",
    "config_path = '../yml/sn7_baseline_infer.yml'\n",
    "config = sol.utils.config.parse(config_path)\n",
    "print('Config:')\n",
    "print(config)\n",
    "\n",
    "# make infernce output dir\n",
    "os.makedirs(os.path.dirname(config['inference']['output_dir']), exist_ok=True)\n",
    "inferer = sol.nets.infer.Inferer(config)\n",
    "inferer()"
   ]
  },
  {
   "cell_type": "code",
   "execution_count": null,
   "metadata": {},
   "outputs": [],
   "source": []
  }
 ],
 "metadata": {
  "interpreter": {
   "hash": "b381daf39804f72903a4561826c76428bf38a76739150f363597b71784612d0e"
  },
  "kernelspec": {
   "display_name": "Python 3.7.13 ('solaris')",
   "language": "python",
   "name": "python3"
  },
  "language_info": {
   "codemirror_mode": {
    "name": "ipython",
    "version": 3
   },
   "file_extension": ".py",
   "mimetype": "text/x-python",
   "name": "python",
   "nbconvert_exporter": "python",
   "pygments_lexer": "ipython3",
   "version": "3.7.13"
  },
  "orig_nbformat": 4
 },
 "nbformat": 4,
 "nbformat_minor": 2
}
