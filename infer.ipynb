{
 "cells": [
  {
   "cell_type": "code",
   "execution_count": null,
   "metadata": {},
   "outputs": [],
   "source": [
    "import solaris as sol\n",
    "import os\n",
    "config_path = '../yml/sn7_baseline_infer.yml'\n",
    "config = sol.utils.config.parse(config_path)\n",
    "print('Config:')\n",
    "print(config)\n",
    "\n",
    "# make infernce output dir\n",
    "os.makedirs(os.path.dirname(config['inference']['output_dir']), exist_ok=True)\n",
    "inferer = sol.nets.infer.Inferer(config)\n",
    "inferer()"
   ]
  },
  {
   "cell_type": "code",
   "execution_count": null,
   "metadata": {},
   "outputs": [],
   "source": [
    "import glob \n",
    "import cv2\n",
    "from matplotlib import pyplot as plt"
   ]
  },
  {
   "cell_type": "code",
   "execution_count": null,
   "metadata": {},
   "outputs": [],
   "source": [
    "data=[]\n",
    "count=0\n",
    "\n",
    "for p in glob.glob('D:\\\\Spring 2022\\\\Deep Learning\\\\project\\\\SN7_buildings_train\\\\test_public\\\\dha\\\\images_masked\\*' +'.jpg'):\n",
    "    img = cv2.imread(p)\n",
    "    img= cv2.cvtColor(img, cv2.COLOR_BGR2RGB)\n",
    "    # plt.imshow(img)\n",
    "    # print(img.shape)\n",
    "    \n",
    "    resized = cv2.resize(img, (512,512), interpolation = cv2.INTER_AREA)\n",
    "    plt.imsave(\"D:\\\\Spring 2022\\\\Deep Learning\\\\project\\\\SN7_buildings_train\\\\test_public\\\\dha\\\\images_masked\\\\img_resized_\"+str(count)+'.jpg', resized)\n",
    "    count+=1\n",
    "    # img.resize(512,512,3)\n",
    "    \n",
    "    data.append(resized)\n",
    "# plt.imshow(data[3])"
   ]
  },
  {
   "cell_type": "code",
   "execution_count": null,
   "metadata": {},
   "outputs": [],
   "source": []
  }
 ],
 "metadata": {
  "interpreter": {
   "hash": "bbd52b6bddc1bc28ea732e2e821e160917193095761a23c2be93788b1163343a"
  },
  "kernelspec": {
   "display_name": "Python 3.7.13 ('solaris')",
   "language": "python",
   "name": "python3"
  },
  "language_info": {
   "codemirror_mode": {
    "name": "ipython",
    "version": 3
   },
   "file_extension": ".py",
   "mimetype": "text/x-python",
   "name": "python",
   "nbconvert_exporter": "python",
   "pygments_lexer": "ipython3",
   "version": "3.7.13"
  },
  "orig_nbformat": 4
 },
 "nbformat": 4,
 "nbformat_minor": 2
}
